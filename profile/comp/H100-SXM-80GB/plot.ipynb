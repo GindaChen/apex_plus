{
 "cells": [
  {
   "cell_type": "markdown",
   "metadata": {},
   "source": [
    "# Plot attention Time "
   ]
  },
  {
   "cell_type": "code",
   "execution_count": 3,
   "metadata": {},
   "outputs": [],
   "source": [
    "\"\"\"gpu,dtype,num_heads,head_size,batch_size,seq_len,time(us)\"\"\"\n",
    "import pandas as pd\n",
    "import matplotlib.pyplot as plt\n",
    "\n",
    "df = pd.read_csv('mha_0.csv')\n",
    "original_df = df"
   ]
  },
  {
   "cell_type": "code",
   "execution_count": 7,
   "metadata": {},
   "outputs": [
    {
     "data": {
      "application/vnd.jupyter.widget-view+json": {
       "model_id": "2be61f1e94e34f3fa53afd4efc52856d",
       "version_major": 2,
       "version_minor": 0
      },
      "text/plain": [
       "Output()"
      ]
     },
     "metadata": {},
     "output_type": "display_data"
    },
    {
     "data": {
      "application/vnd.jupyter.widget-view+json": {
       "model_id": "69e78e0523ee408faca72c8cf68f2db7",
       "version_major": 2,
       "version_minor": 0
      },
      "text/plain": [
       "HBox(children=(SelectMultiple(description='Dtype', index=(0,), options=('half', 'float'), value=('half',)), Se…"
      ]
     },
     "metadata": {},
     "output_type": "display_data"
    }
   ],
   "source": [
    "import ipywidgets as widgets\n",
    "from IPython.display import display\n",
    "\n",
    "df = original_df.copy()\n",
    "\n",
    "# Create widgets for multi-selection\n",
    "dtype_options = df['dtype'].unique()\n",
    "num_heads_options = df['num_heads'].unique()\n",
    "head_size_options = df['head_size'].unique()\n",
    "batch_size_options = df['batch_size'].unique()\n",
    "\n",
    "dtype_select = widgets.SelectMultiple(\n",
    "    options=dtype_options,\n",
    "    value=['half'],\n",
    "    description='Dtype',\n",
    "    disabled=False\n",
    ")\n",
    "\n",
    "num_heads_select = widgets.SelectMultiple(\n",
    "    options=num_heads_options,\n",
    "    value=[num_heads_options[0]],\n",
    "    description='Num Heads',\n",
    "    disabled=False\n",
    ")\n",
    "\n",
    "head_size_select = widgets.SelectMultiple(\n",
    "    options=head_size_options,\n",
    "    value=[head_size_options[0]],\n",
    "    description='Head Size',\n",
    "    disabled=False\n",
    ")\n",
    "\n",
    "batch_size_select = widgets.SelectMultiple(\n",
    "    options=batch_size_options,\n",
    "    value=[batch_size_options[0]],\n",
    "    description='Batch Size',\n",
    "    disabled=False\n",
    ")\n",
    "\n",
    "def update_plot(dtype, num_heads, head_size, batch_size):\n",
    "    plt.figure(figsize=(10, 6))\n",
    "    filtered_df = df[\n",
    "        (df['dtype'].isin(dtype)) &\n",
    "        (df['num_heads'].isin(num_heads)) &\n",
    "        (df['head_size'].isin(head_size)) &\n",
    "        (df['batch_size'].isin(batch_size))\n",
    "    ]\n",
    "    \n",
    "    grouped = filtered_df.groupby(['gpu', 'dtype', 'num_heads', 'head_size', 'batch_size'])\n",
    "    \n",
    "    for name, group in grouped:\n",
    "        plt.plot(group['seq_len'], group['time(us)'], label=f'{name}')\n",
    "    \n",
    "    plt.xlabel('seq_len')\n",
    "    plt.ylabel('time(us)')\n",
    "    plt.title('Time vs Sequence Length for Different Configurations')\n",
    "    plt.legend(title='(gpu, dtype, num_heads, head_size, batch_size)', bbox_to_anchor=(1.05, 1), loc='upper left')\n",
    "    plt.tight_layout()\n",
    "    plt.show()\n",
    "\n",
    "# Display widgets and plot\n",
    "ui = widgets.HBox([dtype_select, num_heads_select, head_size_select, batch_size_select])\n",
    "out = widgets.interactive_output(update_plot, {'dtype': dtype_select, 'num_heads': num_heads_select, 'head_size': head_size_select, 'batch_size': batch_size_select})\n",
    "\n",
    "display(out, ui)\n"
   ]
  },
  {
   "cell_type": "markdown",
   "metadata": {},
   "source": [
    "# Plot MLP and Attention Time"
   ]
  },
  {
   "cell_type": "code",
   "execution_count": 10,
   "metadata": {},
   "outputs": [],
   "source": [
    "gemm_df = pd.read_csv('gemm_0.csv') # gpu,dtype,m,k,n,time(us)\n",
    "attn_df = pd.read_csv('mha_0.csv') # gpu,dtype,num_heads,head_size,batch_size,seq_len,time(us)"
   ]
  },
  {
   "cell_type": "code",
   "execution_count": null,
   "metadata": {},
   "outputs": [],
   "source": [
    "def MLP_Time(\n",
    "    seq_len, batch_size, \n",
    "    num_heads, head_dim, # \n",
    "):\n",
    "    \n",
    "    pass"
   ]
  },
  {
   "cell_type": "code",
   "execution_count": null,
   "metadata": {},
   "outputs": [],
   "source": []
  },
  {
   "cell_type": "code",
   "execution_count": null,
   "metadata": {},
   "outputs": [],
   "source": []
  },
  {
   "cell_type": "code",
   "execution_count": null,
   "metadata": {},
   "outputs": [],
   "source": [
    "import ipywidgets as widgets\n",
    "from IPython.display import display\n",
    "\n",
    "df = original_df.copy()\n",
    "\n",
    "# Only keep the dtype == \"half\"\n",
    "df = df[df['dtype'] == 'half']\n",
    "\n",
    "# Create widgets for multi-selection\n",
    "num_heads_options = df['num_heads'].unique()\n",
    "head_size_options = df['head_size'].unique()\n",
    "batch_size_options = df['batch_size'].unique()\n",
    "\n",
    "num_heads_select = widgets.SelectMultiple(\n",
    "    options=num_heads_options,\n",
    "    value=[num_heads_options[0]],\n",
    "    description='Num Heads',\n",
    "    disabled=False\n",
    ")\n",
    "\n",
    "head_size_select = widgets.SelectMultiple(\n",
    "    options=head_size_options,\n",
    "    value=[head_size_options[0]],\n",
    "    description='Head Size',\n",
    "    disabled=False\n",
    ")\n",
    "\n",
    "batch_size_select = widgets.SelectMultiple(\n",
    "    options=batch_size_options,\n",
    "    value=[batch_size_options[0]],\n",
    "    description='Batch Size',\n",
    "    disabled=False\n",
    ")\n",
    "\n",
    "def update_plot(num_heads, head_size, batch_size):\n",
    "    plt.figure(figsize=(10, 6))\n",
    "    filtered_df = df[\n",
    "        (df['num_heads'].isin(num_heads)) &\n",
    "        (df['head_size'].isin(head_size)) &\n",
    "        (df['batch_size'].isin(batch_size))\n",
    "    ]\n",
    "    \n",
    "    grouped = filtered_df.groupby(['gpu', 'dtype', 'num_heads', 'head_size', 'batch_size'])\n",
    "    \n",
    "    for name, group in grouped:\n",
    "        plt.plot(group['seq_len'], group['time(us)'], label=f'{name}')\n",
    "    \n",
    "    plt.xlabel('seq_len')\n",
    "    plt.ylabel('time(us)')\n",
    "    plt.title('Time vs Sequence Length for Different Configurations')\n",
    "    plt.legend(title='(gpu, dtype, num_heads, head_size, batch_size)', bbox_to_anchor=(1.05, 1), loc='upper left')\n",
    "    plt.tight_layout()\n",
    "    plt.show()\n",
    "\n",
    "# Display widgets and plot\n",
    "ui = widgets.HBox([num_heads_select, head_size_select, batch_size_select])\n",
    "out = widgets.interactive_output(update_plot, {'num_heads': num_heads_select, 'head_size': head_size_select, 'batch_size': batch_size_select})\n",
    "\n",
    "display(out, ui)\n"
   ]
  }
 ],
 "metadata": {
  "kernelspec": {
   "display_name": "Python 3",
   "language": "python",
   "name": "python3"
  },
  "language_info": {
   "codemirror_mode": {
    "name": "ipython",
    "version": 3
   },
   "file_extension": ".py",
   "mimetype": "text/x-python",
   "name": "python",
   "nbconvert_exporter": "python",
   "pygments_lexer": "ipython3",
   "version": "3.12.8"
  }
 },
 "nbformat": 4,
 "nbformat_minor": 2
}
